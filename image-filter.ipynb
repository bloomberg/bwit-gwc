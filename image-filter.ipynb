{
 "cells": [
  {
   "cell_type": "markdown",
   "id": "b5361e5a",
   "metadata": {
    "slideshow": {
     "slide_type": "skip"
    }
   },
   "source": [
    "## Overview: Key Concepts\n",
    "\n",
    "Before we dive into the code, let's review two important concepts that will help you complete the tasks: **nested lists** and **functions**.\n",
    "\n",
    "### Nested Lists\n",
    "A **nested list** is a list that contains other lists as its elements. These inner lists can themselves contain further lists, creating a multi-dimensional structure. Nested lists are useful for representing data in a structured way, such as matrices, tables, or images.\n",
    "\n",
    "For example, a 2D list can represent an image where each inner list is a row of pixels, and each pixel is represented as a list of three values `[R, G, B]` (Red, Green, Blue):\n",
    "\n",
    "```python\n",
    "image_list = [\n",
    "    [[255, 0, 0], [0, 255, 0], [0, 0, 255]],  # Row 1\n",
    "    [[255, 255, 0], [0, 255, 255], [255, 0, 255]]  # Row 2\n",
    "]\n",
    "```\n",
    "\n",
    "In this example:\n",
    "\n",
    "- `image_list[0]` gives the first row: `[[255, 0, 0], [0, 255, 0], [0, 0, 255]]`.\n",
    "- `image_list[0][1]` gives the second pixel in the first row: `[0, 255, 0]`.\n",
    "- `image_list[0][1][1]` gives the Green value of that pixel: `255`.\n",
    "\n",
    "### Functions\n",
    "A **function** is a reusable block of code that performs a specific task. Functions allow you to organize your code, avoid repetition, and make it easier to debug and maintain.\n",
    "\n",
    "In this lab, you'll write a function to apply a filter to an image. The function will take a **nested list** (representing the image) as input, process it, and return a new nested list with the filter applied.\n",
    "\n",
    "With these concepts in mind, you're ready to start working!"
   ]
  },
  {
   "cell_type": "markdown",
   "id": "aeaab07e",
   "metadata": {
    "slideshow": {
     "slide_type": "skip"
    }
   },
   "source": [
    "## Load the Image\n",
    "\n",
    "Running the code block below will import the functions we need to use from our `img_utils` module and load the image. \n",
    "\n",
    "The `load_image` function will return `image_list`, a nested list of the image's pixels. It will also display the input image below the code block, so we can see the original image before applying filters to it. This may take a few seconds!"
   ]
  },
  {
   "cell_type": "code",
   "execution_count": null,
   "id": "2a72edb3",
   "metadata": {},
   "outputs": [],
   "source": [
    "from python.img_utils import ImageProcessor\n",
    "image_processor = ImageProcessor()\n",
    "image_list  = image_processor.load_image(\"input.jpg\")"
   ]
  },
  {
   "cell_type": "markdown",
   "id": "3b17b825",
   "metadata": {
    "slideshow": {
     "slide_type": "skip"
    }
   },
   "source": [
    "## Implement a Greyscale Function\n",
    "\n",
    "You will implement a function called `filter`, which converts a colored image into shades of grey. This is done by averaging the Red (R), Green (G), and Blue (B) values of each pixel in the image.\n",
    "\n",
    "### Example\n",
    "(Note this is much smaller than a real image for demonstrative purposes)\n",
    "\n",
    "**Input**\n",
    "```python\n",
    "image_list = [\n",
    "    [[100, 200, 50], [150, 120, 140]],\n",
    "    [[50, 90, 70], [225, 25, 50]]\n",
    "]\n",
    "```\n",
    "\n",
    "**Output**\n",
    "```python\n",
    "greyscale_list = [\n",
    "    [[116, 116, 116], [136, 136, 136]],\n",
    "    [[70, 70, 70], [100, 100, 100]]\n",
    "]\n",
    "```\n",
    "\n",
    "### Input Type\n",
    "The input to the function is a **nested list**. Each element of the outer list represents a row of pixels in the image, and each element of the inner list represents a single pixel. A pixel is represented as a list or tuple of three integers: `[R, G, B]`, where:\n",
    "- `R` is the red value (0–255),\n",
    "- `G` is the green value (0–255),\n",
    "- `B` is the blue value (0–255).\n",
    "\n",
    "If you're unfamiliar with lists in Python, you can refer to the [Python documentation on lists](https://docs.python.org/3/tutorial/datastructures.html) or this [tutorial](https://www.geeksforgeeks.org/python-lists/).\n",
    "\n",
    "### Steps to Implement\n",
    "For each pixel in the image:\n",
    "1. Take the R, G, and B values.\n",
    "2. Calculate the average: `grey_value = (R + G + B) / 3`.\n",
    "3. Replace the R, G, and B values with the `grey_value`. This makes the pixel appear grey.\n",
    "\n",
    "To process the nested list, you will need to use **nested loops**:\n",
    "- The outer loop iterates through each row of pixels.\n",
    "- The inner loop iterates through each pixel in the row.\n",
    "\n",
    "The function should return a new nested list of pixels where each pixel is represented as `[grey_value, grey_value, grey_value]`. This list will have the same structure as the original image."
   ]
  },
  {
   "cell_type": "code",
   "execution_count": null,
   "id": "ce5815d8",
   "metadata": {},
   "outputs": [],
   "source": [
    "def filter(image_list):\n",
    "    \"\"\"\n",
    "    Apply a greyscale filter to the image.\n",
    "    Args:\n",
    "        image_list (list): The list of pixel values of the image.\n",
    "    Returns:\n",
    "        list: The list of pixel values after applying the filter.\n",
    "    \"\"\"\n",
    "    # TODO add your code here!"
   ]
  },
  {
   "cell_type": "markdown",
   "id": "cf7ffde4",
   "metadata": {
    "slideshow": {
     "slide_type": "skip"
    }
   },
   "source": [
    "If you get stuck, use the below starter code and examples to help get you un-stuck!"
   ]
  },
  {
   "cell_type": "code",
   "execution_count": null,
   "id": "60ee3989",
   "metadata": {},
   "outputs": [],
   "source": [
    "# Only run this code block if you want to see the starter code!\n",
    "\n",
    "%load python/starter_code.py"
   ]
  },
  {
   "cell_type": "code",
   "execution_count": null,
   "id": "ffbb25c5",
   "metadata": {},
   "outputs": [],
   "source": [
    "# Only run this code block if you want to see a hint for calculating the average!\n",
    "\n",
    "%load python/avg_example.py"
   ]
  },
  {
   "cell_type": "code",
   "execution_count": null,
   "id": "c6d4b85a",
   "metadata": {},
   "outputs": [],
   "source": [
    "# Only run this code block if you want to see the example!\n",
    "\n",
    "%load python/red_tint.py"
   ]
  },
  {
   "cell_type": "markdown",
   "id": "401fdcdf",
   "metadata": {
    "slideshow": {
     "slide_type": "skip"
    }
   },
   "source": [
    "## See the filtered image\n",
    "\n",
    "Once your `filter` function is implemented, run the following code block to see the filtered image. This may take a few seconds to run!"
   ]
  },
  {
   "cell_type": "code",
   "execution_count": null,
   "id": "d79d9f1a",
   "metadata": {},
   "outputs": [],
   "source": [
    "# Show the image\n",
    "filtered_img = filter(image_list)\n",
    "image_processor.show_image(filtered_img)"
   ]
  }
 ],
 "metadata": {
  "kernelspec": {
   "display_name": "Python 3",
   "language": "python",
   "name": "python3"
  },
  "language_info": {
   "codemirror_mode": {
    "name": "ipython",
    "version": 3
   },
   "file_extension": ".py",
   "mimetype": "text/x-python",
   "name": "python",
   "nbconvert_exporter": "python",
   "pygments_lexer": "ipython3",
   "version": "3.12.9"
  }
 },
 "nbformat": 4,
 "nbformat_minor": 5
}
